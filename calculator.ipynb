{
  "cells": [
    {
      "cell_type": "code",
      "source": [
        "%pip install numpy_financial"
      ],
      "metadata": {
        "id": "BxThLq-UW5hs"
      },
      "execution_count": null,
      "outputs": []
    },
    {
      "cell_type": "code",
      "execution_count": null,
      "metadata": {
        "id": "JsmYKMS9Wy6S"
      },
      "outputs": [],
      "source": [
        "import numpy_financial as npf"
      ]
    },
    {
      "cell_type": "markdown",
      "metadata": {
        "id": "Jee7CVtNWy6T"
      },
      "source": [
        "<font size=\"4\">Future Value Calculation (Retirement Calculation)</font>"
      ]
    },
    {
      "cell_type": "code",
      "execution_count": null,
      "metadata": {
        "id": "lWzf-vfiWy6U"
      },
      "outputs": [],
      "source": [
        "# npf.fv(rate, nper, pmt, pv[, when])\n",
        "# rate: interest rate per period\n",
        "# nper: number of compounding periods\n",
        "# pmt: payment per period\n",
        "# pv: present value\n",
        "# when: when payments are paid (begin/end of period)"
      ]
    },
    {
      "cell_type": "code",
      "execution_count": null,
      "metadata": {
        "id": "DFbgcUiwWy6U"
      },
      "outputs": [],
      "source": [
        "annual_return = 0.10\n",
        "monthly_contr = 2200\n",
        "num_comp_years = 30\n",
        "\n",
        "# Example: 401K plan: 7% annual return, 25 years, $1600 monthly contribution"
      ]
    },
    {
      "cell_type": "code",
      "execution_count": null,
      "metadata": {
        "id": "vuEZXKe8Wy6U"
      },
      "outputs": [],
      "source": [
        "final_balance = npf.fv(annual_return/12, num_comp_years*12, -monthly_contr, 0, when='end')\n",
        "total_contributions = monthly_contr * num_comp_years * 12\n",
        "\n",
        "print(f'Compounding period: {num_comp_years} years')\n",
        "print(f'Monthly contribution: ${monthly_contr}')\n",
        "print('You would have contributed a total of: ${:.2f}'.format(total_contributions))\n",
        "print('Assuming average annual return of {:.2f}%'.format(annual_return*100))\n",
        "print('At the end of the period, you will have: ${:.2f}'.format(final_balance))"
      ]
    },
    {
      "cell_type": "markdown",
      "metadata": {
        "id": "Gg17m68jWy6V"
      },
      "source": [
        "<font size=\"4\">Present value calculation (purchasing power: what is it worth in today's dollar?)</font>"
      ]
    },
    {
      "cell_type": "code",
      "execution_count": null,
      "metadata": {
        "id": "zkg0-gL2Wy6V"
      },
      "outputs": [],
      "source": [
        "# pv(rate, nper, pmt[, fv, when])\n",
        "# rate: interest rate per period\n",
        "# nper: number of compounding periods\n",
        "# pmt: payment per period\n",
        "# fv: future value\n",
        "# when: when payments are paid (begin/end of period)"
      ]
    },
    {
      "cell_type": "code",
      "execution_count": null,
      "metadata": {
        "id": "f-jc7JmFWy6V"
      },
      "outputs": [],
      "source": [
        "inflation_rate = 0.038"
      ]
    },
    {
      "cell_type": "code",
      "execution_count": null,
      "metadata": {
        "id": "6jTFmChrWy6V"
      },
      "outputs": [],
      "source": [
        "present_value = -npf.pv(inflation_rate/12, num_comp_years*12, 0, final_balance, when='end')\n",
        "\n",
        "print('Assuming average inflation rate of {:.2f}%'.format(inflation_rate*100))\n",
        "print('Your retirement savings will be worth ${:.2f} in today\\'s dollars'.format(present_value))\n",
        "print('3% of that is ${:.2f} in today\\'s dollar (three percent rule for retirement)'.format(present_value*0.03))"
      ]
    },
    {
      "cell_type": "markdown",
      "metadata": {
        "id": "BwZXjkIQWy6V"
      },
      "source": [
        "<font size=\"4\">Compute the number of periodic payments (loan/financing)</font>"
      ]
    },
    {
      "cell_type": "code",
      "execution_count": null,
      "metadata": {
        "id": "vZqpu7JVWy6V"
      },
      "outputs": [],
      "source": [
        "# nper(rate, pmt, pv, fv=0, when='end')\n",
        "# rate: interest rate per period\n",
        "# pmt: payment per period\n",
        "# pv: present value\n",
        "# fv: future value\n",
        "# when: when payments are paid (begin/end of period)"
      ]
    },
    {
      "cell_type": "code",
      "execution_count": null,
      "metadata": {
        "id": "aEjZzT9RWy6V"
      },
      "outputs": [],
      "source": [
        "principal = 27000\n",
        "monthly_payment = 5000\n",
        "interest_rate = 0.055"
      ]
    },
    {
      "cell_type": "code",
      "execution_count": null,
      "metadata": {
        "id": "LA3mOxjgWy6W"
      },
      "outputs": [],
      "source": [
        "# Example: Home loan of $1,000,000 at 6% interest rate\n",
        "\n",
        "num_month = npf.nper(interest_rate/12, monthly_payment, -principal, 0, when='end')\n",
        "num_year = num_month / 12\n",
        "\n",
        "print(f'For a home loan of ${principal} at {100*interest_rate}% interest rate')\n",
        "print(f'If you pay ${monthly_payment} per month')\n",
        "print('It will take you {:.2f} years to pay off your home loan'.format(num_year))\n",
        "print('You will have paid a total of ${:.2f}'.format(monthly_payment*num_month))"
      ]
    },
    {
      "cell_type": "markdown",
      "metadata": {
        "id": "tpFW-b2RWy6W"
      },
      "source": [
        "<font size=\"4\">Compute the payment against loan principal plus interest (loan/financing)</font>"
      ]
    },
    {
      "cell_type": "code",
      "execution_count": null,
      "metadata": {
        "id": "a336SE1XWy6W"
      },
      "outputs": [],
      "source": [
        "num_year_borrowed = 3\n",
        "principal = 27000"
      ]
    },
    {
      "cell_type": "code",
      "execution_count": null,
      "metadata": {
        "id": "71odog5nWy6W"
      },
      "outputs": [],
      "source": [
        "# Example: How much can I borrow? Monthly payment required for a 15-year fixed-rate mortgage of $500,000 at 6% interest rate\n",
        "\n",
        "monthly = -npf.pmt(interest_rate/12, num_year_borrowed*12, principal, when='end')\n",
        "\n",
        "print(f'For a {num_year_borrowed}-year fixed-rate mortgage of ${principal} at {100*interest_rate}% interest rate')\n",
        "print('You will need to pay ${:.2f} per month'.format(monthly))\n",
        "print('You will have paid a total of ${:.2f}'.format(monthly*num_year_borrowed*12))"
      ]
    }
  ],
  "metadata": {
    "kernelspec": {
      "display_name": "Python 3",
      "language": "python",
      "name": "python3"
    },
    "language_info": {
      "codemirror_mode": {
        "name": "ipython",
        "version": 3
      },
      "file_extension": ".py",
      "mimetype": "text/x-python",
      "name": "python",
      "nbconvert_exporter": "python",
      "pygments_lexer": "ipython3",
      "version": "3.11.3"
    },
    "orig_nbformat": 4,
    "colab": {
      "provenance": []
    }
  },
  "nbformat": 4,
  "nbformat_minor": 0
}