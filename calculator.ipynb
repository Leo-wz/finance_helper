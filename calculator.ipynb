{
 "cells": [
  {
   "cell_type": "code",
   "execution_count": 75,
   "metadata": {},
   "outputs": [],
   "source": [
    "import numpy as np\n",
    "import numpy_financial as npf"
   ]
  },
  {
   "attachments": {},
   "cell_type": "markdown",
   "metadata": {},
   "source": [
    "<font size=\"4\">Future Value Calculation (Retirement Calculation)</font>"
   ]
  },
  {
   "cell_type": "code",
   "execution_count": 76,
   "metadata": {},
   "outputs": [],
   "source": [
    "# npf.fv(rate, nper, pmt, pv[, when])\n",
    "# rate: interest rate per period\n",
    "# nper: number of compounding periods\n",
    "# pmt: payment per period\n",
    "# pv: present value\n",
    "# when: when payments are paid (begin/end of period)"
   ]
  },
  {
   "cell_type": "code",
   "execution_count": 77,
   "metadata": {},
   "outputs": [],
   "source": [
    "annual_return = 0.08\n",
    "monthly_contr = 1000\n",
    "num_comp_years = 30\n",
    "\n",
    "# Example: 401K plan: 8% annual return, 30 years, $1000 monthly contribution"
   ]
  },
  {
   "cell_type": "code",
   "execution_count": 78,
   "metadata": {},
   "outputs": [
    {
     "name": "stdout",
     "output_type": "stream",
     "text": [
      "Compounding period: 30 years\n",
      "Monthly contribution: $1000\n",
      "You would have contributed a total of: $360000.00\n",
      "Assuming average annual return of 8.00%\n",
      "At the end of the period, you will have: $1490359.45\n"
     ]
    }
   ],
   "source": [
    "final_balance = npf.fv(annual_return/12, num_comp_years*12, -monthly_contr, -0, when='end')\n",
    "total_contributions = monthly_contr * num_comp_years * 12\n",
    "\n",
    "print(f'Compounding period: {num_comp_years} years')\n",
    "print(f'Monthly contribution: ${monthly_contr}')\n",
    "print('You would have contributed a total of: ${:.2f}'.format(total_contributions))\n",
    "print('Assuming average annual return of {:.2f}%'.format(annual_return*100))\n",
    "print('At the end of the period, you will have: ${:.2f}'.format(final_balance))"
   ]
  },
  {
   "attachments": {},
   "cell_type": "markdown",
   "metadata": {},
   "source": [
    "<font size=\"4\">Present value calculation (what is it worth in today's dollar?)</font>"
   ]
  },
  {
   "cell_type": "code",
   "execution_count": 79,
   "metadata": {},
   "outputs": [],
   "source": [
    "# pv(rate, nper, pmt[, fv, when])\n",
    "# rate: interest rate per period\n",
    "# nper: number of compounding periods\n",
    "# pmt: payment per period\n",
    "# fv: future value\n",
    "# when: when payments are paid (begin/end of period)"
   ]
  },
  {
   "cell_type": "code",
   "execution_count": 80,
   "metadata": {},
   "outputs": [],
   "source": [
    "inflation_rate = 0.038"
   ]
  },
  {
   "cell_type": "code",
   "execution_count": 81,
   "metadata": {},
   "outputs": [
    {
     "name": "stdout",
     "output_type": "stream",
     "text": [
      "Assuming average inflation rate of 3.80%\n",
      "Your retirement savings will be worth $477504.61 in today's dollars\n",
      "3% of that is $14325.14\n"
     ]
    }
   ],
   "source": [
    "present_value = -npf.pv(inflation_rate/12, num_comp_years*12, 0, final_balance, when='end')\n",
    "\n",
    "print('Assuming average inflation rate of {:.2f}%'.format(inflation_rate*100))\n",
    "print('Your retirement savings will be worth ${:.2f} in today\\'s dollars'.format(present_value))\n",
    "print('3% of that is ${:.2f}'.format(present_value*0.03))"
   ]
  },
  {
   "attachments": {},
   "cell_type": "markdown",
   "metadata": {},
   "source": [
    "<font size=\"4\">Compute the number of periodic payments (loan/financing)</font>"
   ]
  },
  {
   "cell_type": "code",
   "execution_count": 82,
   "metadata": {},
   "outputs": [],
   "source": [
    "# nper(rate, pmt, pv, fv=0, when='end')\n",
    "# rate: interest rate per period\n",
    "# pmt: payment per period\n",
    "# pv: present value\n",
    "# fv: future value\n",
    "# when: when payments are paid (begin/end of period)"
   ]
  },
  {
   "cell_type": "code",
   "execution_count": 83,
   "metadata": {},
   "outputs": [],
   "source": [
    "principal = 1000000\n",
    "monthly_payment = 7000\n",
    "interest_rate = 0.06"
   ]
  },
  {
   "cell_type": "code",
   "execution_count": 84,
   "metadata": {},
   "outputs": [
    {
     "name": "stdout",
     "output_type": "stream",
     "text": [
      "For a home loan of $1000000 at 6% interest rate\n",
      "If you pay $7000 per month\n",
      "It will take you 20.93 years to pay off your home loan\n"
     ]
    }
   ],
   "source": [
    "# Example: Home loan of $1,000,000 at 6% interest rate\n",
    "\n",
    "num_month = npf.nper(interest_rate/12, monthly_payment, -principal, 0, when='end')\n",
    "num_year = num_month / 12\n",
    "\n",
    "print(f'For a home loan of ${principal} at 6% interest rate')\n",
    "print(f'If you pay ${monthly_payment} per month')\n",
    "print('It will take you {:.2f} years to pay off your home loan'.format(num_year))"
   ]
  },
  {
   "attachments": {},
   "cell_type": "markdown",
   "metadata": {},
   "source": [
    "<font size=\"4\">Compute the payment against loan principal plus interest (loan/financing)</font>"
   ]
  },
  {
   "cell_type": "code",
   "execution_count": 85,
   "metadata": {},
   "outputs": [],
   "source": [
    "num_year_borrowed = 15\n",
    "principal = 500000"
   ]
  },
  {
   "cell_type": "code",
   "execution_count": 86,
   "metadata": {},
   "outputs": [
    {
     "name": "stdout",
     "output_type": "stream",
     "text": [
      "For a 15-year fixed-rate mortgage of $500000 at 6% interest rate\n",
      "You will need to pay $4219.28 per month\n"
     ]
    }
   ],
   "source": [
    "# Example: How much can I borrow? Monthly payment required for a 15-year fixed-rate mortgage of $500,000 at 6% interest rate\n",
    "\n",
    "monthly = -npf.pmt(interest_rate/12, num_year_borrowed*12, principal, when='end')\n",
    "\n",
    "print(f'For a 15-year fixed-rate mortgage of ${principal} at 6% interest rate')\n",
    "print('You will need to pay ${:.2f} per month'.format(monthly))"
   ]
  }
 ],
 "metadata": {
  "kernelspec": {
   "display_name": "Python 3",
   "language": "python",
   "name": "python3"
  },
  "language_info": {
   "codemirror_mode": {
    "name": "ipython",
    "version": 3
   },
   "file_extension": ".py",
   "mimetype": "text/x-python",
   "name": "python",
   "nbconvert_exporter": "python",
   "pygments_lexer": "ipython3",
   "version": "3.11.3"
  },
  "orig_nbformat": 4
 },
 "nbformat": 4,
 "nbformat_minor": 2
}
